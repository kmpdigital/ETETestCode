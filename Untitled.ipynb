{
 "cells": [
  {
   "cell_type": "code",
   "execution_count": null,
   "id": "419d3b22-d8db-4b33-9b8a-691cbe7d0338",
   "metadata": {},
   "outputs": [],
   "source": []
  },
  {
   "cell_type": "code",
   "execution_count": 2,
   "id": "6aa09fe7-b93c-4181-8cfa-c92e8f8a9404",
   "metadata": {},
   "outputs": [],
   "source": [
    "temp = {'a','b','c'}"
   ]
  },
  {
   "cell_type": "code",
   "execution_count": 3,
   "id": "529b2f9a-b1e3-4e31-bac8-944b20730981",
   "metadata": {},
   "outputs": [
    {
     "name": "stdout",
     "output_type": "stream",
     "text": [
      "{'c', 'b'}\n"
     ]
    }
   ],
   "source": [
    "temp.remove('a')\n",
    "print(temp)"
   ]
  },
  {
   "cell_type": "code",
   "execution_count": null,
   "id": "a264ec1d-a727-489d-a14b-3343bd40b74c",
   "metadata": {},
   "outputs": [],
   "source": [
    "temp[str(user_input_animal)] = thing(user_input_name, user_input_animal, user_input_age)"
   ]
  }
 ],
 "metadata": {
  "kernelspec": {
   "display_name": "Python 3 (ipykernel)",
   "language": "python",
   "name": "python3"
  },
  "language_info": {
   "codemirror_mode": {
    "name": "ipython",
    "version": 3
   },
   "file_extension": ".py",
   "mimetype": "text/x-python",
   "name": "python",
   "nbconvert_exporter": "python",
   "pygments_lexer": "ipython3",
   "version": "3.11.2"
  }
 },
 "nbformat": 4,
 "nbformat_minor": 5
}
